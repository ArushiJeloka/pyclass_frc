{
 "cells": [
  {
   "cell_type": "markdown",
   "metadata": {},
   "source": [
    "# Analyzing Blue Alliance Data with Python\n",
    "[The Blue Alliance](http://www.thebluealliance.com) is an extensive online repository of FIRST Robotics Competition (FRC) data. The Blue Alliance (TBA) contains detailed information on every single FRC match. [Click here for an example.](https://www.thebluealliance.com/match/2020wasno_qf2m1)\n",
    "\n",
    "In addition providing information website, TBA makes all FRC competition data available via hyptetext transfer protocol (HTTP). The FRC data is provided as javascript object notation (JSON) text, which can be read by Python. This allows us find new ways to analyze and visualize FRC data.\n",
    "\n",
    "In this notebook, we will walk through retrieving FRC JSON data via HTTP, reading that data into Python, and generating a graph to visualize the data."
   ]
  },
  {
   "cell_type": "markdown",
   "metadata": {},
   "source": [
    "## 1. TBA Account and Authorization Key\n",
    "An authorization key, issued by TBA, is required to retrieve FRC data from TBA. But don't worry, you can get an authorization key is just a few minutes.\n",
    "\n",
    "1. TBA requires users to have a Google account to log into thier site and obtain a key. If you already have a Google account and email address, proceed to step 2. If not, go to [https://accounts.google.com/signup](https://accounts.google.com/signup) and get one.  \n",
    "\n",
    "\n",
    "2. Go to [thebluealliance.com](http://thebluealliance.com) and click on *myTBA* in the menu bar at the top of the page.\n",
    "![myTBA Link](tba_auth_key_01.png)  \n",
    "\n",
    "\n",
    "3. Click on *Take me to the login page!*.\n",
    "![myTBA Link](images/tba_auth_key_02.png)\n",
    "\n",
    "\n",
    "4. Select the Google account you would like to use and click *Allow*.\n",
    "\n",
    "\n",
    "5. Select *Manage myTBA*.\n",
    "![myTBA Link](images/tba_auth_key_03.png)\n",
    "\n",
    "\n",
    "6. Select *Account Overview*.\n",
    "![myTBA Link](images/tba_auth_key_04.png)\n",
    "\n",
    "\n",
    "7. Scroll down to the *Read API Keys* section. Type `python_analysis` into the description box and click on *+ Add New Key*.\n",
    "![myTBA Link](images/tba_auth_key_05.png)"
   ]
  },
  {
   "cell_type": "code",
   "execution_count": null,
   "metadata": {},
   "outputs": [],
   "source": []
  }
 ],
 "metadata": {
  "kernelspec": {
   "display_name": "Python 3",
   "language": "python",
   "name": "python3"
  },
  "language_info": {
   "codemirror_mode": {
    "name": "ipython",
    "version": 3
   },
   "file_extension": ".py",
   "mimetype": "text/x-python",
   "name": "python",
   "nbconvert_exporter": "python",
   "pygments_lexer": "ipython3",
   "version": "3.7.6"
  }
 },
 "nbformat": 4,
 "nbformat_minor": 4
}
