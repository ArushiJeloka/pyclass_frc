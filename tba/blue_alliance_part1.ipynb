{
 "cells": [
  {
   "cell_type": "markdown",
   "metadata": {},
   "source": [
    "# Analyzing Blue Alliance Data with Python\n",
    "[The Blue Alliance](http://www.thebluealliance.com) is an extensive online repository of FIRST Robotics Competition (FRC) data. The Blue Alliance (TBA) contains detailed information on every single FRC match. [Click here for an example.](https://www.thebluealliance.com/match/2020wasno_qf2m1)\n",
    "\n",
    "In addition providing information website, TBA makes all FRC competition data available via hyptetext transfer protocol (HTTP). The FRC data is provided as javascript object notation (JSON) text, which can be read by Python. This allows us find new ways to analyze and visualize FRC data.\n",
    "\n",
    "In this notebook, we will walk through retrieving FRC JSON data via HTTP, reading that data into Python, and generating a graph to visualize the data."
   ]
  },
  {
   "cell_type": "markdown",
   "metadata": {},
   "source": [
    "## 1. Clone this Repository to Your Local Computer\n",
    "1. Go to the Github page for this repository: https://github.com/irs1318dev/pyclass_frc. Click on the *Cone or Download* button.\n",
    "![myTBA Link](images/github_01.png) \n",
    "\n",
    "\n",
    "2. Click on the clipboard icon to copy the repository URL to your clipboard.\n",
    "![myTBA Link](images/github_02.png) \n",
    "\n",
    "3. Open Windows Powershell or Mac Terminal. Navigate to the folder where you want to clone the *FRC Python Class* repository. Type `git clone ` and then paste the URL you copied in step 2. Hit *ENTER*.\n",
    "\n",
    "![myTBA Link](images/github_03.png) \n",
    "\n",
    "4. In step 3 you just copied this notebook and the rest of the *FRC Python Class* repository to your computer. Run Jupyter Notebook on your computer and open and run the local copy of this notebook."
   ]
  },
  {
   "cell_type": "markdown",
   "metadata": {},
   "source": [
    "## 2. TBA Account and Authorization Key\n",
    "An authorization key, issued by TBA, is required to retrieve FRC data from TBA. But don't worry, you can get an authorization key is just a few minutes.\n",
    "\n",
    "1. TBA requires users to have a Google account to log into thier site and obtain a key. If you already have a Google account and email address, proceed to step 2. If not, go to [https://accounts.google.com/signup](https://accounts.google.com/signup) and get one.  \n",
    "\n",
    "\n",
    "2. Go to [thebluealliance.com](http://thebluealliance.com) and click on *myTBA* in the menu bar at the top of the page.\n",
    "![myTBA Link](images/tba_auth_key_01.png)  \n",
    "\n",
    "\n",
    "3. Click on *Take me to the login page!*.\n",
    "![myTBA Link](images/tba_auth_key_02.png)\n",
    "\n",
    "\n",
    "4. Select the Google account you would like to use and click *Allow*.\n",
    "\n",
    "\n",
    "5. Select *Manage myTBA*.\n",
    "![myTBA Link](images/tba_auth_key_03.png)\n",
    "\n",
    "\n",
    "6. Select *Account Overview*.\n",
    "![myTBA Link](images/tba_auth_key_04.png)\n",
    "\n",
    "\n",
    "7. Scroll down to the *Read API Keys* section. Type `python_analysis` into the description box and click on *+ Add New Key*.\n",
    "![myTBA Link](images/tba_auth_key_05.png)\n",
    "\n",
    "\n",
    "8. The authorization key, a 64-character random has now appeared in the *Read API Keys* section. Copy the key.\n",
    "![myTBA Link](images/tba_auth_key_06.png)\n",
    "\n",
    "\n",
    "9. Create an empty python file named `auth.py`. Copy the key into that file. Surround the key with quotes and assign it to a variable named `tba_key`. the file will only have one line of code:\n",
    "```\n",
    "tba_key = 'hhk3kjWhKHKkD4hgkGjhHGMFhgS5fHfh4Fklk1KUnhkHk6lYi4YiYHGut9yEhvHF'\n",
    "```\n",
    "10. Save `auth.py` to the same folder as this notebook."
   ]
  },
  {
   "cell_type": "code",
   "execution_count": null,
   "metadata": {},
   "outputs": [],
   "source": []
  }
 ],
 "metadata": {
  "kernelspec": {
   "display_name": "Python 3",
   "language": "python",
   "name": "python3"
  },
  "language_info": {
   "codemirror_mode": {
    "name": "ipython",
    "version": 3
   },
   "file_extension": ".py",
   "mimetype": "text/x-python",
   "name": "python",
   "nbconvert_exporter": "python",
   "pygments_lexer": "ipython3",
   "version": "3.7.6"
  }
 },
 "nbformat": 4,
 "nbformat_minor": 4
}
