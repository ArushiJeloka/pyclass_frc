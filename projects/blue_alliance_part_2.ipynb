{
 "cells": [
  {
   "cell_type": "markdown",
   "metadata": {},
   "source": [
    "[Table of Contents](../index.ipynb)"
   ]
  },
  {
   "cell_type": "markdown",
   "metadata": {},
   "source": [
    "# Analyzing Blue Alliance Data with Python - Part 2"
   ]
  },
  {
   "cell_type": "markdown",
   "metadata": {},
   "source": [
    "## A. Preparations\n",
    "1. Get a *Blue Alliance* API authorization key. See [See Instructions here](blue_alliance_api_key.ipynb).\n",
    "2. Review [session 07 on Hypertext Transfer Protocol](../sessions/s07_http/s07_http.ipynb)\n",
    "3. Review [Analyzing Blue Alliance Data with Pyton - Part 1](blue_allinace_part1.ipynb)"
   ]
  },
  {
   "cell_type": "markdown",
   "metadata": {},
   "source": [
    "## B. Setup\n",
    "We will need the following packages for this project:"
   ]
  },
  {
   "cell_type": "code",
   "execution_count": null,
   "metadata": {},
   "outputs": [],
   "source": [
    "# Run this cell to import essential packages\n",
    "import json\n",
    "import pickle\n",
    "import urllib.request\n",
    "\n",
    "import pandas as pd\n",
    "\n",
    "import auth"
   ]
  },
  {
   "cell_type": "markdown",
   "metadata": {},
   "source": [
    "Let's look at the data we retrieved from TBA-API in part 1."
   ]
  },
  {
   "cell_type": "code",
   "execution_count": null,
   "metadata": {},
   "outputs": [],
   "source": [
    "# Run this cell before closing the notebook.\n",
    "import pickle\n",
    "with open('districts.pickle', 'rb') as p_file:\n",
    "    districts = pickle.load(p_file)\n",
    "districts"
   ]
  },
  {
   "cell_type": "markdown",
   "metadata": {},
   "source": [
    "## C. Challenge 1 - Event Information\n",
    "Now that we have the TBA key for all of the districts, write the Python code to retrieve a list of events for the Pacific Northwest District in 2020. \n",
    "\n",
    "Use this syntax for the URL:\n",
    "![District Event URL](images/tba_api_district2.png)\n",
    "\n",
    "Remember to include both an `X-TBA-Auth-Key` and a `User-Agent` header. Print out the JSON form of the response."
   ]
  },
  {
   "cell_type": "code",
   "execution_count": null,
   "metadata": {},
   "outputs": [],
   "source": []
  },
  {
   "cell_type": "markdown",
   "metadata": {},
   "source": [
    "Convert the JSON text into a Pandas data frame. Note the key for the 2020 competition at Glacier Peak High School."
   ]
  },
  {
   "cell_type": "markdown",
   "metadata": {},
   "source": [
    "## D. Challenge 2 - Match Information\n",
    "Using the event key for the 2020 competition at Glacier Peak High Schook, retrieve detailed match information in JSON form."
   ]
  },
  {
   "cell_type": "code",
   "execution_count": null,
   "metadata": {},
   "outputs": [],
   "source": []
  }
 ],
 "metadata": {
  "kernelspec": {
   "display_name": "Python 3",
   "language": "python",
   "name": "python3"
  },
  "language_info": {
   "codemirror_mode": {
    "name": "ipython",
    "version": 3
   },
   "file_extension": ".py",
   "mimetype": "text/x-python",
   "name": "python",
   "nbconvert_exporter": "python",
   "pygments_lexer": "ipython3",
   "version": "3.7.6"
  }
 },
 "nbformat": 4,
 "nbformat_minor": 4
}
