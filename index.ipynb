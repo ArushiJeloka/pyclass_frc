{
 "cells": [
  {
   "cell_type": "markdown",
   "metadata": {
    "collapsed": true
   },
   "source": [
    "# FRC Analytics with Python\n",
    "## Table of Contents\n",
    "\n",
    "### Class Sessions\n",
    "* [Session 1: Introduction to Python](sessions/s01_intro_python/s01_intro.ipynb)\n",
    "* [Session 2: Control Statements](sessions/s02_Control_Statements/s02_Control_Statements.ipynb)\n",
    "* [Session 7: HTTP](sessions/s07_http/s07_http.ipynb)\n",
    "\n",
    "### Procedures\n",
    "* [2. Git](procedures/pc02_git/pc02_git.ipynb)\n",
    "* [3. Blue Alliance API Key](procedures/pc03_tba_api_key/pc03_tba_api_key.ipynb)\n",
    "\n",
    "### Projects\n",
    "3. Retrieve and Analyze Data from *The Blue Alliance*\n",
    "  * [Notebook 1: HTTP Requests](projects/pj01_tba_api/pj01_nb01_tba_http.ipynb)\n",
    "  * [Notebook 2: Flat Data](projects/pj01_tba_api/pj01_nb02_tba_flat_data.ipynb)\n",
    "  * [Notebook 3: Nested Data](projects/pj01_tba_api/pj01_nb03_tba_nested_data.ipynb)\n",
    "\n",
    "### Useful Links\n",
    "* [FRC Python Class Github Repository](https://github.com/irs1318dev/pyclass_frc)"
   ]
  },
  {
   "cell_type": "code",
   "execution_count": null,
   "metadata": {},
   "outputs": [],
   "source": []
  }
 ],
 "metadata": {
  "kernelspec": {
   "display_name": "Python 3",
   "language": "python",
   "name": "python3"
  },
  "language_info": {
   "codemirror_mode": {
    "name": "ipython",
    "version": 3
   },
   "file_extension": ".py",
   "mimetype": "text/x-python",
   "name": "python",
   "nbconvert_exporter": "python",
   "pygments_lexer": "ipython3",
   "version": "3.7.6"
  }
 },
 "nbformat": 4,
 "nbformat_minor": 2
}
