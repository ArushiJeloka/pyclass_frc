{
 "cells": [
  {
   "cell_type": "markdown",
   "metadata": {
    "collapsed": true
   },
   "source": [
    "# FRC Analytics with Python\n",
    "## Table of Contents\n",
    "\n",
    "### Class Sessions\n",
    "* [Session 1: Introduction](sessions/s01/session_01_intro.ipynb)\n",
    "* Session 2: Control Statements\n",
    "\n",
    "### Procedures\n",
    "* [A. Git](procedures/A_git/procedure_A_git.ipynb)\n",
    "\n",
    "### Useful Links\n",
    "* [FRC Python Class Github Repository](https://github.com/irs1318dev/pyclass_frc)"
   ]
  },
  {
   "cell_type": "code",
   "execution_count": null,
   "metadata": {},
   "outputs": [],
   "source": []
  }
 ],
 "metadata": {
  "kernelspec": {
   "display_name": "Python 3",
   "language": "python",
   "name": "python3"
  },
  "language_info": {
   "codemirror_mode": {
    "name": "ipython",
    "version": 3
   },
   "file_extension": ".py",
   "mimetype": "text/x-python",
   "name": "python",
   "nbconvert_exporter": "python",
   "pygments_lexer": "ipython3",
   "version": "3.7.6"
  }
 },
 "nbformat": 4,
 "nbformat_minor": 2
}
