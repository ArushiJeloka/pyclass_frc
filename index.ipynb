{
 "cells": [
  {
   "cell_type": "markdown",
   "metadata": {
    "collapsed": true
   },
   "source": [
    "# FRC Analytics with Python\n",
    "## Table of Contents\n",
    "\n",
    "### Class Sessions\n",
    "* [Session 1: Introduction to Python](sessions/s01_intro_python/s01_intro.ipynb)\n",
    "* Session 2: Control Statements\n",
    "* [Session 7: HTTP](sessions/s07_http/s07_http.ipynb)\n",
    "\n",
    "### Procedures\n",
    "* [2. Git](procedures/p02_git/p02_git.ipynb)\n",
    "\n",
    "### Projects\n",
    "* [0.1 Blue Alliance API Key](projects/blue_alliance_api_key.ipynb)\n",
    "* [1. Blue Alliance API Part I](projects/blue_alliance_part1.ipynb)\n",
    "\n",
    "### Useful Links\n",
    "* [FRC Python Class Github Repository](https://github.com/irs1318dev/pyclass_frc)"
   ]
  },
  {
   "cell_type": "code",
   "execution_count": null,
   "metadata": {},
   "outputs": [],
   "source": []
  }
 ],
 "metadata": {
  "kernelspec": {
   "display_name": "Python 3",
   "language": "python",
   "name": "python3"
  },
  "language_info": {
   "codemirror_mode": {
    "name": "ipython",
    "version": 3
   },
   "file_extension": ".py",
   "mimetype": "text/x-python",
   "name": "python",
   "nbconvert_exporter": "python",
   "pygments_lexer": "ipython3",
   "version": "3.7.6"
  }
 },
 "nbformat": 4,
 "nbformat_minor": 2
}
