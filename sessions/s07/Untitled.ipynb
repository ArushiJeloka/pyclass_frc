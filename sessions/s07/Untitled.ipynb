{
 "cells": [
  {
   "cell_type": "markdown",
   "metadata": {},
   "source": [
    "[Table of Contents](../../index.ipynb)"
   ]
  },
  {
   "cell_type": "markdown",
   "metadata": {},
   "source": [
    "# Hyptertext Transfer Protocol (HTTP)\n",
    "Hyptertext transfer protocol (HTTP) is the foundation of communications on the World Wide Web. You may be wondering why we are stuyding HTTP in a Python course.\n",
    "* This isn't just a Python course -- it's a course in FRC analytics that happens to use Python.\n",
    "* We will use HTTP to retrieve detailed information on FRC competitions from [The Blue Alliance](https://www.thebluealliance.com/) website. We will then use Python tools to analyze this data.\n",
    "* HTTP can also be used to download FRC competition data from directly from FIRST. It's a bit more difficult to get an authorization key from FIRST, so we will use *The Blue Alliance* in this class. You can learn more about retrieving data from FIRST at https://usfirst.collab.net/sf/projects/first_community_developers/ and https://frcevents2.docs.apiary.io/.\n",
    "\n",
    "Our FRC team's scouting system uses HTTP for a couple different things:\n",
    "* Exchanging data between Android tablets and scouting system server that runs on a Windows laptop. The tablets are used to enter data during FRC matches.\n",
    "* Downloading match schedules from the *FIRST API* or *The Blue Alliance* (so we don’t have to enter them manually.\n",
    "* We are considering additional uses of HTTP for our system, such as automatically downloading match scores or rankings, so we can display this information along with the scouting data that we collect ourselves."
   ]
  },
  {
   "cell_type": "markdown",
   "metadata": {},
   "source": [
    "## A. What is HTTP?\n",
    "HTTP is a communications protocol, which is a set of rules that allows two different computers to transmit and receive information.\n",
    "\n",
    "HTTP operates at the application layer. This means HTTP doesn’t care about the physics of how the information is transmitted (wireless, serial cable, cat 6 network cable, etc.)\n",
    "\n",
    "There are many application layer protocols:\n",
    "* POP3, SMTP, and IMAP are used for email.\n",
    "* FTP is used to transfer files.\n",
    "* NTP is used for synchronizing clocks over a network.\n",
    "* *There are many more… .*\n",
    "\n",
    "HTTP messages are classified as requests or responses.\n",
    "* A client sends a request to a server.\n",
    "* Based on the information in the request, the servers sends a response back to the client.\n",
    "* For example, you might use Chrome (an HTTP client) to send an HTTP request to the web server that provides The Blue Alliance web page. The Blue Alliance will send the web page back as an HTTP response."
   ]
  },
  {
   "cell_type": "markdown",
   "metadata": {},
   "source": [
    "[Table of Contents](../../index.ipynb)"
   ]
  }
 ],
 "metadata": {
  "kernelspec": {
   "display_name": "Python 3",
   "language": "python",
   "name": "python3"
  },
  "language_info": {
   "codemirror_mode": {
    "name": "ipython",
    "version": 3
   },
   "file_extension": ".py",
   "mimetype": "text/x-python",
   "name": "python",
   "nbconvert_exporter": "python",
   "pygments_lexer": "ipython3",
   "version": "3.7.6"
  }
 },
 "nbformat": 4,
 "nbformat_minor": 4
}
